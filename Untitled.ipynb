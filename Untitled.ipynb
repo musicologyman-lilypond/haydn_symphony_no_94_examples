{
 "cells": [
  {
   "cell_type": "code",
   "execution_count": null,
   "metadata": {},
   "outputs": [],
   "source": [
    "import pyperclip\n",
    "\n",
    "def articulate(notes):\n",
    "    notes = notes.split()\n",
    "    for i in range(3):\n",
    "        notes[i] = \"{}-. \".format(notes[i])\n",
    "    notes[4] = \"({} \".format(notes[4])\n",
    "    notes[5] = \"{}) \".format(notes[5])\n",
    "    return \" \".join(notes)"
   ]
  },
  {
   "cell_type": "code",
   "execution_count": 2,
   "metadata": {},
   "outputs": [
    {
     "name": "stdout",
     "output_type": "stream",
     "text": [
      "e-.  g-.  c-.  e (d  e) \n"
     ]
    }
   ],
   "source": [
    "articulated_notes = articulate(\"e g c e d e\")\n",
    "print(articulated_notes)\n",
    "pyperclip.copy(articulated_notes)\\"
   ]
  },
  {
   "cell_type": "code",
   "execution_count": 14,
   "metadata": {},
   "outputs": [
    {
     "name": "stdout",
     "output_type": "stream",
     "text": [
      "g-.  c-.  e-.  g (fis  g) c,-.  e-.  g-.  c (g  e) \n",
      "f-.  g-.  a-.  g (f  e) d-.  e-.  f-.  e (d  c) \n",
      "b-.  c-.  d-.  c (b  a) g-.  a-.  g-.  f (e  d) \n",
      "e-.  e'-.  e-.  e (e  e) d-.  c-.  b-.  a (g  fis) \n",
      "g-.  e-.  d-.  c (b  a) \n"
     ]
    }
   ],
   "source": [
    "sextuplets = \"\"\"g c e g fis g \n",
    "c, e g c g e\n",
    "f g a g f e \n",
    "d e f e d c \n",
    "b c d c b a \n",
    "g a g f e d\n",
    "e e' e e e e\n",
    "d c b a g fis\n",
    "g e d c b a\"\"\"\n",
    "\n",
    "result = \"\"\n",
    "\n",
    "for i, sextuplet in enumerate(sextuplets.split('\\n')):\n",
    "    result += articulate(sextuplet)\n",
    "    if i % 2:\n",
    "        result += '\\n'\n",
    "    \n",
    "print(result)\n",
    "pyperclip.copy(result)"
   ]
  },
  {
   "cell_type": "code",
   "execution_count": 24,
   "metadata": {},
   "outputs": [
    {
     "name": "stdout",
     "output_type": "stream",
     "text": [
      "g-.  g-. |\n",
      "c-.  c-.  e-.  e-. |\n",
      "g-.  g-.  e-.  e-. |\n",
      "\n"
     ]
    }
   ],
   "source": [
    "notes = \"\"\"g g\n",
    "c c e e\n",
    "g g e e\"\"\"\n",
    "\n",
    "def articulate(notes):\n",
    "    return \" \".join([\"{}-. \".format(note) for note in notes.split()])\n",
    "\n",
    "result = ''\n",
    "for note_group in notes.split('\\n'):\n",
    "    result += articulate(note_group) + \"|\\n\"\n",
    "\n",
    "print(result)\n",
    "pyperclip.copy(result)"
   ]
  }
 ],
 "metadata": {
  "kernelspec": {
   "display_name": "Python 3",
   "language": "python",
   "name": "python3"
  },
  "language_info": {
   "codemirror_mode": {
    "name": "ipython",
    "version": 3
   },
   "file_extension": ".py",
   "mimetype": "text/x-python",
   "name": "python",
   "nbconvert_exporter": "python",
   "pygments_lexer": "ipython3",
   "version": "3.7.4"
  }
 },
 "nbformat": 4,
 "nbformat_minor": 2
}
